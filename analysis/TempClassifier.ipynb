{
 "cells": [
  {
   "cell_type": "code",
   "execution_count": null,
   "metadata": {},
   "outputs": [],
   "source": [
    "import os\n",
    "import pandas as pd\n",
    "import numpy as np\n",
    "import matplotlib.pyplot as plt\n",
    "from sklearn import linear_model"
   ]
  },
  {
   "cell_type": "code",
   "execution_count": null,
   "metadata": {},
   "outputs": [],
   "source": [
    "def read_data(subnum, dataloc=\"./timeseries_data\", runtype=\"pair\", runnum=1):\n",
    "    fname = f\"{dataloc}/sub-{subnum}_task-{runtype}_run-{runnum}_space-fsLR_den-91k_bold_timeseries.tsv\"\n",
    "    dat = pd.read_csv(fname, sep=\"\\t\")\n",
    "    return dat\n",
    "\n",
    "def read_meta(subnum, dataloc=\"./metadata\", runtype=\"pair\", runnum=1):\n",
    "    fname = f\"{dataloc}/sub-{subnum}_task-{runtype}_run-0{runnum}_events.tsv\"\n",
    "    dat = pd.read_csv(fname, sep=\"\\t\")\n",
    "    return dat\n",
    "\n",
    "df = read_data(\"01\")\n",
    "meta = read_meta(\"01\")\n",
    "display(meta.head())"
   ]
  },
  {
   "cell_type": "markdown",
   "metadata": {},
   "source": [
    "1. For a given image, reduce the meta dataframe to only rows that correspond to that image\n",
    "2. Pull the onset column from these rows (should be left with 5 numbers)\n",
    "3. Divide all onsets by 1.5 (gets it into TR units), then add 3 (for hemodynamic lag)\n",
    "4. Round these (this may have to be conditional), to get just 5 integers\n",
    "5. Use those numbers as indices into the timeseries dataframe - should be left with 5 rows of data.\n",
    "6. Scale to function that does this for a given subject, runtype, run number and trial type."
   ]
  },
  {
   "cell_type": "code",
   "execution_count": null,
   "metadata": {},
   "outputs": [],
   "source": []
  }
 ],
 "metadata": {
  "@webio": {
   "lastCommId": null,
   "lastKernelId": null
  },
  "kernelspec": {
   "display_name": "Python 3",
   "language": "python",
   "name": "python3"
  },
  "language_info": {
   "codemirror_mode": {
    "name": "ipython",
    "version": 3
   },
   "file_extension": ".py",
   "mimetype": "text/x-python",
   "name": "python",
   "nbconvert_exporter": "python",
   "pygments_lexer": "ipython3",
   "version": "3.6.10"
  }
 },
 "nbformat": 4,
 "nbformat_minor": 4
}
